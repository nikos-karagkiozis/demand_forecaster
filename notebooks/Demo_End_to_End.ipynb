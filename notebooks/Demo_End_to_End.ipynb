{
  "cells": [
    {
      "cell_type": "markdown",
      "metadata": {},
      "source": [
        "# Sales Forecast Demo\n",
        "\n",
        "This notebook demonstrates:\n",
        "- Querying recent data from BigQuery\n",
        "- Calling the deployed Vertex AI Endpoint for online prediction\n",
        "\n"
      ]
    },
    {
      "cell_type": "code",
      "execution_count": null,
      "metadata": {},
      "outputs": [],
      "source": [
        "import os\n",
        "from google.cloud import bigquery, aiplatform\n",
        "import pandas as pd\n",
        "\n",
        "PROJECT_ID = os.environ.get(\"PROJECT_ID\", \"my-forecast-project-18870\")\n",
        "REGION = os.environ.get(\"REGION\", \"us-central1\")\n",
        "DATASET = os.environ.get(\"DATASET\", \"gk2_takeaway_sales\")\n",
        "FINAL_TABLE = os.environ.get(\"FINAL_TABLE\", \"daily_sales_features\")\n",
        "\n",
        "client = bigquery.Client(project=PROJECT_ID)\n",
        "\n",
        "df = client.query(f\"\"\"\n",
        "SELECT * FROM `{PROJECT_ID}.{DATASET}.{FINAL_TABLE}`\n",
        "ORDER BY Date DESC\n",
        "LIMIT 30\n",
        "\"\"\").to_dataframe()\n",
        "df.tail(3)\n"
      ]
    },
    {
      "cell_type": "code",
      "execution_count": null,
      "metadata": {},
      "outputs": [],
      "source": [
        "# Call the deployed endpoint (set ENDPOINT_ID env var beforehand)\n",
        "ENDPOINT_ID = os.environ.get(\"ENDPOINT_ID\")\n",
        "assert ENDPOINT_ID, \"Set ENDPOINT_ID in environment to your deployed endpoint id\"\n",
        "\n",
        "aiplatform.init(project=PROJECT_ID, location=REGION)\n",
        "endpoint_name = ENDPOINT_ID if ENDPOINT_ID.startswith(\"projects/\") else f\"projects/{PROJECT_ID}/locations/{REGION}/endpoints/{ENDPOINT_ID}\"\n",
        "endpoint = aiplatform.Endpoint(endpoint_name)\n",
        "\n",
        "# Construct a single instance (dummy example, replace features accordingly)\n",
        "instance = {\"feature1\": 1.0, \"feature2\": 2.0}\n",
        "\n",
        "pred = endpoint.predict([instance])\n",
        "pred.predictions\n"
      ]
    }
  ],
  "metadata": {
    "language_info": {
      "name": "python"
    }
  },
  "nbformat": 4,
  "nbformat_minor": 2
}
